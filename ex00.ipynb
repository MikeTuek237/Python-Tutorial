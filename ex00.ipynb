{
 "cells": [
  {
   "cell_type": "markdown",
   "metadata": {},
   "source": [
    "# Software Engineering - Winter Term 2025\n",
    "##### Hochschule Karlsruhe\n",
    "##### Tutor Paul Löhr"
   ]
  },
  {
   "cell_type": "markdown",
   "metadata": {},
   "source": [
    "## Python Tutorial\n",
    "\n",
    "\n",
    "```\n",
    "> Instead of reading a static tutorial we will work and execute code to learn and explore Python concepts. \n",
    "```"
   ]
  },
  {
   "cell_type": "markdown",
   "metadata": {},
   "source": [
    "#### Why Python\n",
    "\n",
    "Python is a modern, general-purpose, object-oriented, high-level programming language. Python code is usually stored in text files with the file ending `.py`:\n",
    "\n",
    "__Python characteristics:__\n",
    "\n",
    "* Easy-to-read and intuitive code, easy-to-learn minimalistic syntax, maintainability scales well with size of projects.\n",
    "* Fewer lines of code, fewer bugs, easier to maintain.\n",
    "* dynamically typed: No need to define the type of variables, function arguments or return types.\n",
    "* automatic memory management: No need to explicitly allocate and deallocate memory for variables and data arrays. No memory leak bugs.\n",
    "* interpreted: No need to compile the code. The Python interpreter reads and executes the python code directly.\n",
    "\n",
    "__Basic Syntax:__\n",
    "\n",
    "No spaces or tab characters allowed at the start of a statement: Indentation plays a special role in Python (see the section on control statements). For now simply ensure that all statements start at the beginning of the line. The `#` character indicates that the rest of the line is a comment\n"
   ]
  },
  {
   "cell_type": "markdown",
   "metadata": {},
   "source": [
    "__Zen of Python__"
   ]
  },
  {
   "cell_type": "code",
   "execution_count": 1,
   "metadata": {},
   "outputs": [
    {
     "name": "stdout",
     "output_type": "stream",
     "text": [
      "The Zen of Python, by Tim Peters\n",
      "\n",
      "Beautiful is better than ugly.\n",
      "Explicit is better than implicit.\n",
      "Simple is better than complex.\n",
      "Complex is better than complicated.\n",
      "Flat is better than nested.\n",
      "Sparse is better than dense.\n",
      "Readability counts.\n",
      "Special cases aren't special enough to break the rules.\n",
      "Although practicality beats purity.\n",
      "Errors should never pass silently.\n",
      "Unless explicitly silenced.\n",
      "In the face of ambiguity, refuse the temptation to guess.\n",
      "There should be one-- and preferably only one --obvious way to do it.\n",
      "Although that way may not be obvious at first unless you're Dutch.\n",
      "Now is better than never.\n",
      "Although never is often better than *right* now.\n",
      "If the implementation is hard to explain, it's a bad idea.\n",
      "If the implementation is easy to explain, it may be a good idea.\n",
      "Namespaces are one honking great idea -- let's do more of those!\n"
     ]
    }
   ],
   "source": [
    "import this"
   ]
  },
  {
   "cell_type": "markdown",
   "metadata": {},
   "source": [
    "---"
   ]
  },
  {
   "cell_type": "markdown",
   "metadata": {},
   "source": [
    "### Basics in Python \n",
    "```\n",
    "> Variables in python, variables can be declared and values can be assigned to it as follows:\n",
    "```"
   ]
  },
  {
   "cell_type": "code",
   "execution_count": null,
   "metadata": {},
   "outputs": [],
   "source": [
    "print('Hello World!')"
   ]
  },
  {
   "cell_type": "code",
   "execution_count": 3,
   "metadata": {},
   "outputs": [],
   "source": [
    "x = 5\n",
    "y = 3.12\n",
    "z = True\n",
    "name = 'Max Musterman'"
   ]
  },
  {
   "cell_type": "code",
   "execution_count": null,
   "metadata": {},
   "outputs": [],
   "source": [
    "print(f'{x=}, {y=}, {z=}, {name=}')\n",
    "\n",
    "print(x, y, z, name)"
   ]
  },
  {
   "cell_type": "markdown",
   "metadata": {},
   "source": [
    "```\n",
    "> Check the type of a variable \n",
    "```"
   ]
  },
  {
   "cell_type": "code",
   "execution_count": null,
   "metadata": {},
   "outputs": [],
   "source": [
    "print(type(x))\n",
    "print(type(y))\n",
    "print(type(z))\n",
    "print(type(name))"
   ]
  },
  {
   "cell_type": "markdown",
   "metadata": {},
   "source": [
    "```\n",
    "> Arithmetic Operators, Relational Operators, Bitwise Operators\n",
    "```\n",
    "\n",
    "| Symbol | Task Performed |\n",
    "|----|---|\n",
    "| +  | Addition |\n",
    "| -  | Subtraction|\n",
    "| /  | division |\n",
    "| %  | mod |\n",
    "| *  | multiplication |\n",
    "| //  | floor division |\n",
    "| **  | to the power of |\n",
    "| == | True, if it is equal |\n",
    "| !=  | True, if not equal to |\n",
    "| < | less than |\n",
    "| > | greater than |\n",
    "| <=  | less than or equal to |\n",
    "| >=  | greater than or equal to |\n",
    "| `and`  | Logical And |\n",
    "| `or`  | Logical OR |\n",
    "| `not`  | Not |\n",
    "| ~  | Negate |\n",
    "| ^  | XOR |\n",
    "| >>  | Right shift |\n",
    "| <<  | Left shift |\n"
   ]
  },
  {
   "cell_type": "code",
   "execution_count": null,
   "metadata": {},
   "outputs": [],
   "source": [
    "print(1+1)\n",
    "print(1-1)\n",
    "print(10/2)\n",
    "print(10%3)\n",
    "print(3*3)\n",
    "print(10//3)\n",
    "print(10**2)\n",
    "print(1==1)\n",
    "print(1!=1)"
   ]
  },
  {
   "cell_type": "markdown",
   "metadata": {},
   "source": [
    "### Your 1. Task\n",
    "```\n",
    "> Compute the value of the following polynomial and print the results to the screen:\n",
    "```\n",
    "\n",
    "* $y=ax^2 + bx + c$ with  $x=0$ and $x=20$ using $a=1, b=1, c=−6 $"
   ]
  },
  {
   "cell_type": "code",
   "execution_count": 1,
   "metadata": {},
   "outputs": [],
   "source": [
    "# Write the Code for the solution \n"
   ]
  },
  {
   "cell_type": "markdown",
   "metadata": {},
   "source": [
    "### Lists\n",
    "Lists are the most commonly used data structure. Think of it as a sequence of data that is enclosed in square brackets and data are separated by a comma. Lists are declared by just equating a variable to `[ ]` or list."
   ]
  },
  {
   "cell_type": "code",
   "execution_count": null,
   "metadata": {},
   "outputs": [],
   "source": [
    "a = []\n",
    "type(a)"
   ]
  },
  {
   "cell_type": "code",
   "execution_count": null,
   "metadata": {},
   "outputs": [],
   "source": [
    "x = ['apple', 'orange']\n",
    "print(x)"
   ]
  },
  {
   "cell_type": "markdown",
   "metadata": {},
   "source": [
    "```\n",
    "> Indexing: Indexing starts from 0 and can also be done in reverse order\n",
    "```"
   ]
  },
  {
   "cell_type": "code",
   "execution_count": null,
   "metadata": {},
   "outputs": [],
   "source": [
    "print(x[0])\n",
    "print(x[1])\n",
    "print(x[-1])\n",
    "print(x[-2])"
   ]
  },
  {
   "cell_type": "markdown",
   "metadata": {},
   "source": [
    "```\n",
    "> Lists can also be nested \n",
    "```"
   ]
  },
  {
   "cell_type": "code",
   "execution_count": 12,
   "metadata": {},
   "outputs": [],
   "source": [
    "x = [[1,2],[3,4]]"
   ]
  },
  {
   "cell_type": "code",
   "execution_count": null,
   "metadata": {},
   "outputs": [],
   "source": [
    "print(x[0])\n",
    "print(x[0][1])"
   ]
  },
  {
   "cell_type": "markdown",
   "metadata": {},
   "source": [
    "#### Slicing \n",
    "```\n",
    "> Slicing enables to access a sequence of data inside the list."
   ]
  },
  {
   "cell_type": "code",
   "execution_count": 15,
   "metadata": {},
   "outputs": [],
   "source": [
    "num = [0,1,1,2,3,4,5,6,7,8,9]"
   ]
  },
  {
   "cell_type": "code",
   "execution_count": null,
   "metadata": {},
   "outputs": [],
   "source": [
    "num[-1]"
   ]
  },
  {
   "cell_type": "code",
   "execution_count": null,
   "metadata": {},
   "outputs": [],
   "source": [
    "print(num[0:4])\n",
    "print(num[4:-1])\n",
    "print(num[:4])"
   ]
  },
  {
   "cell_type": "markdown",
   "metadata": {},
   "source": [
    "#### Build in list functions"
   ]
  },
  {
   "cell_type": "code",
   "execution_count": null,
   "metadata": {},
   "outputs": [],
   "source": [
    "len(num)"
   ]
  },
  {
   "cell_type": "code",
   "execution_count": null,
   "metadata": {},
   "outputs": [],
   "source": [
    "max(num)"
   ]
  },
  {
   "cell_type": "code",
   "execution_count": null,
   "metadata": {},
   "outputs": [],
   "source": [
    "min(num)"
   ]
  },
  {
   "cell_type": "code",
   "execution_count": null,
   "metadata": {},
   "outputs": [],
   "source": [
    "print(0 in num)\n",
    "print(100 in num)"
   ]
  },
  {
   "cell_type": "code",
   "execution_count": null,
   "metadata": {},
   "outputs": [],
   "source": [
    "num.append(10)\n",
    "num"
   ]
  },
  {
   "cell_type": "code",
   "execution_count": null,
   "metadata": {},
   "outputs": [],
   "source": [
    "num[0] = 1\n",
    "num"
   ]
  },
  {
   "cell_type": "code",
   "execution_count": null,
   "metadata": {},
   "outputs": [],
   "source": [
    "num.remove(1) # Removes only the first occurrence of the number 1\n",
    "num"
   ]
  },
  {
   "cell_type": "code",
   "execution_count": null,
   "metadata": {},
   "outputs": [],
   "source": [
    "num = [x for x in num if x != 1] # Removes all occurrences of the number 1\n",
    "num\n",
    "\n",
    "#for x in num: \n",
    "    #if x != 1:\n",
    "       # print(x)"
   ]
  },
  {
   "cell_type": "code",
   "execution_count": null,
   "metadata": {},
   "outputs": [],
   "source": [
    "element = num.pop(-1)  # Removes the element at index -1 and returns its value\n",
    "print(element)\n",
    "num"
   ]
  },
  {
   "cell_type": "markdown",
   "metadata": {},
   "source": [
    "### Your 2. Task\n",
    "```\n",
    "> Remove from the following list the element at index 5 and add it to the 2 index and append it to the end of the list \n",
    "```"
   ]
  },
  {
   "cell_type": "code",
   "execution_count": 2,
   "metadata": {},
   "outputs": [],
   "source": [
    "list= [11, 45, 8, 11, 23, 31, 23, 45, 89]\n",
    "\n",
    "# Write your code..."
   ]
  },
  {
   "cell_type": "markdown",
   "metadata": {},
   "source": [
    "### Strings\n",
    "Strings are ordered text based data which are represented by enclosing the same in single/double/triple quotes."
   ]
  },
  {
   "cell_type": "code",
   "execution_count": null,
   "metadata": {},
   "outputs": [],
   "source": [
    "text = 'Software Engineering ist super!'\n",
    "print(text)"
   ]
  },
  {
   "cell_type": "code",
   "execution_count": null,
   "metadata": {},
   "outputs": [],
   "source": [
    "print(text[:6])"
   ]
  },
  {
   "cell_type": "code",
   "execution_count": null,
   "metadata": {},
   "outputs": [],
   "source": [
    "print(text.find('!'))"
   ]
  },
  {
   "cell_type": "code",
   "execution_count": null,
   "metadata": {},
   "outputs": [],
   "source": [
    "print(text[13])"
   ]
  },
  {
   "cell_type": "code",
   "execution_count": null,
   "metadata": {},
   "outputs": [],
   "source": [
    "list = text.split(' ')\n",
    "print(list)"
   ]
  },
  {
   "cell_type": "markdown",
   "metadata": {},
   "source": [
    "```\n",
    "> There are more functions ...  \n",
    "```"
   ]
  },
  {
   "cell_type": "markdown",
   "metadata": {},
   "source": [
    "### Control Flow"
   ]
  },
  {
   "cell_type": "markdown",
   "metadata": {},
   "source": [
    "```\n",
    "> The Python syntax for conditional execution of code uses the keywords if, elif (else if), else:\n",
    "```"
   ]
  },
  {
   "cell_type": "code",
   "execution_count": null,
   "metadata": {},
   "outputs": [],
   "source": [
    "statement1 = False\n",
    "statement2 = False\n",
    "\n",
    "if statement1 == True:\n",
    "    print(\"Statement1 is True\")\n",
    "    \n",
    "elif statement2:\n",
    "    print(\"Statement2 is True\")\n",
    "    \n",
    "else:\n",
    "    print(\"Nothing is True\")"
   ]
  },
  {
   "cell_type": "markdown",
   "metadata": {},
   "source": [
    "```\n",
    "> Loops \n",
    "```"
   ]
  },
  {
   "cell_type": "code",
   "execution_count": null,
   "metadata": {},
   "outputs": [],
   "source": [
    "list = [1,3,5,7]\n",
    "\n",
    "for element in list: # x represents the value of each element\n",
    "    print(element)"
   ]
  },
  {
   "cell_type": "code",
   "execution_count": null,
   "metadata": {},
   "outputs": [],
   "source": [
    "for x in range(len(list)): # x represents the index of each element\n",
    "    print(x)"
   ]
  },
  {
   "cell_type": "code",
   "execution_count": null,
   "metadata": {},
   "outputs": [],
   "source": [
    "for x, y in enumerate(list): # x represents both index and value\n",
    "    print(x, y)"
   ]
  },
  {
   "cell_type": "code",
   "execution_count": null,
   "metadata": {},
   "outputs": [],
   "source": [
    "for x in range(5): # x represents the index of the element\n",
    "    print(x)"
   ]
  },
  {
   "cell_type": "code",
   "execution_count": null,
   "metadata": {},
   "outputs": [],
   "source": [
    "i = 0\n",
    "\n",
    "while i < 5:  # While loop iterating until i reaches 5\n",
    "    print(i)\n",
    "    i +=1\n",
    "    \n",
    "print(\"done\")"
   ]
  },
  {
   "cell_type": "markdown",
   "metadata": {},
   "source": [
    "### Functions"
   ]
  },
  {
   "cell_type": "code",
   "execution_count": null,
   "metadata": {},
   "outputs": [],
   "source": [
    "def square(x):\n",
    "    return x ** 2\n",
    "\n",
    "square(4)"
   ]
  },
  {
   "cell_type": "code",
   "execution_count": null,
   "metadata": {},
   "outputs": [],
   "source": [
    "def addition(x, y, printing=True):\n",
    "\n",
    "    sum = x + y\n",
    "\n",
    "    if printing:\n",
    "        print(sum)\n",
    "\n",
    "    return sum\n",
    "\n",
    "result = addition(5, 5)"
   ]
  },
  {
   "cell_type": "markdown",
   "metadata": {},
   "source": [
    "###  Your 3. Task\n",
    "```\n",
    "> Implement a method with two list of ints as arguments and creates a third list that should contain only odd numbers from the first list and even numbers from the second list.\n",
    "```"
   ]
  },
  {
   "cell_type": "code",
   "execution_count": null,
   "metadata": {},
   "outputs": [],
   "source": [
    "list_one = [10, 20, 23, 11, 17]\n",
    "list_two = [13, 43, 24, 36, 12]\n",
    "\n",
    "\n",
    "def merge_list(l_1, l_2):\n",
    "\n",
    "    # Write your code..."
   ]
  },
  {
   "cell_type": "markdown",
   "metadata": {},
   "source": [
    "### Classes"
   ]
  },
  {
   "cell_type": "markdown",
   "metadata": {},
   "source": [
    "Classes are the key features of object-oriented programming. In Python a class can contain attributes (variables) and methods (functions). A class is defined almost like a function, but using the class keyword, and the class definition usually contains a number of class method definitions (a function in a class). Each class method should have an argument `self` as its first argument. Some class method names have special meaning, for example:\n",
    "\n",
    "* `__init__`: The name of the method that is invoked when the object is first created.\n",
    "* `__str__`: A method that is invoked when a simple string representation of the class is needed, as for example when printed.\n"
   ]
  },
  {
   "cell_type": "code",
   "execution_count": 40,
   "metadata": {},
   "outputs": [],
   "source": [
    "class Point:\n",
    "    \n",
    "    def __init__(self, x, y): # Create a new Point at x, y\n",
    "        self.x = x\n",
    "        self.y = y\n",
    "        \n",
    "    def translate(self, dx, dy): # Translate the point by dx and dy in the x and y direction.\n",
    "        self.x += dx\n",
    "        self.y += dy\n",
    "        \n",
    "    def __str__(self): # String representation of the class\n",
    "        return (f'Point at {self.x}, {self.y}')"
   ]
  },
  {
   "cell_type": "code",
   "execution_count": null,
   "metadata": {},
   "outputs": [],
   "source": [
    "point = Point(10,5)\n",
    "print(point)"
   ]
  },
  {
   "cell_type": "code",
   "execution_count": null,
   "metadata": {},
   "outputs": [],
   "source": [
    "point.translate(1,1)\n",
    "print(point)"
   ]
  },
  {
   "cell_type": "code",
   "execution_count": null,
   "metadata": {},
   "outputs": [],
   "source": [
    "point.translate(-3,-5)\n",
    "print(point)"
   ]
  },
  {
   "cell_type": "markdown",
   "metadata": {},
   "source": [
    "### Modules\n",
    "\n",
    "One of the most important concepts in good programming is to reuse code and avoid repetitions. We can import the module mymodule into our Python program using import:"
   ]
  },
  {
   "cell_type": "code",
   "execution_count": null,
   "metadata": {},
   "outputs": [],
   "source": [
    "!pip install requests bs4 nltk"
   ]
  },
  {
   "cell_type": "code",
   "execution_count": 29,
   "metadata": {},
   "outputs": [],
   "source": [
    "import requests\n",
    "from bs4 import BeautifulSoup\n",
    "import nltk"
   ]
  },
  {
   "cell_type": "code",
   "execution_count": null,
   "metadata": {},
   "outputs": [
    {
     "name": "stderr",
     "output_type": "stream",
     "text": [
      "[nltk_data] Downloading package punkt_tab to\n",
      "[nltk_data]     C:\\Users\\Test\\AppData\\Roaming\\nltk_data...\n",
      "[nltk_data]   Package punkt_tab is already up-to-date!\n"
     ]
    },
    {
     "data": {
      "text/plain": [
       "True"
      ]
     },
     "execution_count": 23,
     "metadata": {},
     "output_type": "execute_result"
    }
   ],
   "source": [
    "import ssl\n",
    "\n",
    "try:\n",
    "    _create_unverified_https_context = ssl._create_unverified_context\n",
    "except AttributeError:\n",
    "    pass\n",
    "else:\n",
    "    ssl._create_default_https_context = _create_unverified_https_context\n",
    "\n",
    "nltk.download('punkt_tab')"
   ]
  },
  {
   "cell_type": "code",
   "execution_count": 24,
   "metadata": {},
   "outputs": [],
   "source": [
    "def url_to_transcript(url):\n",
    "    page = requests.get(url).text\n",
    "    soup = BeautifulSoup(page, \"html.parser\")\n",
    "    text = [p.text for p in soup.find_all('p')]\n",
    "    return \" \".join(text)"
   ]
  },
  {
   "cell_type": "code",
   "execution_count": 25,
   "metadata": {},
   "outputs": [
    {
     "data": {
      "text/plain": [
       "'\\n\\t\\t\\t\\t\\tWillkommen an der HKA zum Wintersemester 2025/26. Wie du deinen Studieneinstieg organisieren kannst, erfährst du hier\\n\\t\\t\\t\\t \\n\\t\\t\\t\\t\\tDynamisch, aber oft ohne Strategie. HKA-Forschungsinstitut untersucht Einsatz Künstlicher Intelligenz in Unternehmen\\n\\t\\t\\t\\t \\n\\t\\t\\t\\t\\t Kein Weltrekord, aber ein starkes Zeichen für den Klimaschutz\\n\\t\\t\\t\\t \\n\\t\\t\\t\\t\\tPlatz 9 im Engineering Design in Hockenheim und starke Auftritte in Tschechien und Kroatien von High Speed Karlsruhe\\n\\t\\t\\t\\t \\n\\t\\t\\t\\t\\tNick Dienemann wurde für seine Bachelorarbeit ausgezeichnet. Grund genug ihn und seine Abschlussarbeit näher vorzustellen\\n\\t\\t\\t\\t \\n\\t\\t\\t\\tDie Hochschule Karlsruhe startet in das Wintersemester 2025/26\\n\\t\\t\\t \\n\\t\\t\\t\\t17.10.2025: Ein Tag, zehn Innovationen, gebündelte Expertise aus der TechnologieRegion Karlsruhe zu digitalen Zukunftsthemen. Auf der Bühne des ZKM und im Livestream können Impulsvorträge verfolgt werden. Die HKA ist mit einem Pitch zu VR Classroom dabei.\\n\\t\\t\\t \\n\\t\\t\\t\\tHKA präsentierte erfolgreiche Transferprojekte auf der 8. Regionalkonferenz Mobilitätswende im Kongresszentrum Karlsruhe\\n\\t\\t\\t \\n\\t\\t\\t\\tEU-Förderung ermöglichte internationalem Forschungskonsortium unter Federführung der HKA Aufbau von Pilotanlagen in vier Ländern\\n\\t\\t\\t \\n\\t\\t\\t\\tHKA-Forschungsprojekt „SmaCuMed“ gewinnt in Wettbewerb 10.000 € zur Markteinführung\\n\\t\\t\\t \\n\\t\\t\\t\\tFerienprogramm führt Kinder spielerisch auch an technische Themen heran\\n\\t\\t\\t alle News Welche Angebote kann ich im Rahmen meines Studiums wahrnehmen? Welche Unterstützung bekomme ich und wie kann ich mein Studium am besten organisieren? Mit unseren Programmen und Aktionen wollen wir Ihnen ein erfolgreiches Studium mit den besten Karrierechancen ermöglichen. In welchen Bereichen kann ich gemeinsam mit der HKA forschen? Mit praxisnaher und anwendungsreifer Forschung und Entwicklung möchten wir zusammen mit Ihnen zur Zukunftsfähigkeit unserer Gesellschaft beitragen. Mehr erreichen durch Weiterbildung – mit diesem Motto wollen wir Ihnen ein Leben lang Kompetenzen vermitteln, die Ihnen in der Berufspraxis zugutekommen, wissenschaftlich fundiert und anwendungsorientiert. \\xa0 Zentrale Tel.: +49 (0)721 925-0 Fax: +49 (0)721 925-2000 infospam prevention@h-ka.de Personal Tel.: +49 (0)721 925-1188 personalspam prevention@h-ka.de Presse und Kommunikation Tel.: +49 (0)721 925-1004 pkspam prevention@h-ka.de alle Kontakte \\n\\n\\t\\t\\t\\t\\t\\tTel.: +49 (0)721 925-0\\n\\t\\t\\t\\t\\t\\n\\n\\n\\t\\t\\t\\t\\tFax: +49 (0)721 925-2000\\n\\n\\t\\t\\t\\t\\t\\ninfospam prevention@h-ka.de\\n Postfach 2440\\n\\t\\t\\t\\t\\t\\t76012 Karlsruhe'"
      ]
     },
     "execution_count": 25,
     "metadata": {},
     "output_type": "execute_result"
    }
   ],
   "source": [
    "# load a Churchill speach\n",
    "url = 'https://www.h-ka.de/'\n",
    "transcript = url_to_transcript(url)\n",
    "transcript"
   ]
  },
  {
   "cell_type": "code",
   "execution_count": 26,
   "metadata": {},
   "outputs": [
    {
     "data": {
      "text/plain": [
       "'nst, erfährst du hier\\n\\t\\t\\t\\t \\n\\t\\t\\t\\t\\tdynamisch, aber oft ohne strategie. hka-forschungsinstitut untersucht einsatz künstlicher intelligenz in unternehmen\\n\\t\\t\\t\\t \\n\\t\\t\\t\\t\\t kein weltrekord, aber ein starkes ze'"
      ]
     },
     "execution_count": 26,
     "metadata": {},
     "output_type": "execute_result"
    }
   ],
   "source": [
    "# use lower case\n",
    "transcript = transcript.lower()\n",
    "transcript[102:300]"
   ]
  },
  {
   "cell_type": "code",
   "execution_count": 28,
   "metadata": {},
   "outputs": [
    {
     "data": {
      "text/plain": [
       "['willkommen',\n",
       " 'an',\n",
       " 'der',\n",
       " 'hka',\n",
       " 'zum',\n",
       " 'wintersemester',\n",
       " '2025/26',\n",
       " '.',\n",
       " 'wie',\n",
       " 'du',\n",
       " 'deinen',\n",
       " 'studieneinstieg',\n",
       " 'organisieren',\n",
       " 'kannst',\n",
       " ',',\n",
       " 'erfährst',\n",
       " 'du',\n",
       " 'hier',\n",
       " 'dynamisch',\n",
       " ',',\n",
       " 'aber',\n",
       " 'oft',\n",
       " 'ohne',\n",
       " 'strategie',\n",
       " '.',\n",
       " 'hka-forschungsinstitut',\n",
       " 'untersucht',\n",
       " 'einsatz',\n",
       " 'künstlicher',\n",
       " 'intelligenz',\n",
       " 'in',\n",
       " 'unternehmen',\n",
       " 'kein',\n",
       " 'weltrekord',\n",
       " ',',\n",
       " 'aber',\n",
       " 'ein',\n",
       " 'starkes',\n",
       " 'zeichen',\n",
       " 'für',\n",
       " 'den',\n",
       " 'klimaschutz',\n",
       " 'platz',\n",
       " '9',\n",
       " 'im',\n",
       " 'engineering',\n",
       " 'design',\n",
       " 'in',\n",
       " 'hockenheim',\n",
       " 'und',\n",
       " 'starke',\n",
       " 'auftritte',\n",
       " 'in',\n",
       " 'tschechien',\n",
       " 'und',\n",
       " 'kroatien',\n",
       " 'von',\n",
       " 'high',\n",
       " 'speed',\n",
       " 'karlsruhe',\n",
       " 'nick',\n",
       " 'dienemann',\n",
       " 'wurde',\n",
       " 'für',\n",
       " 'seine',\n",
       " 'bachelorarbeit',\n",
       " 'ausgezeichnet',\n",
       " '.',\n",
       " 'grund',\n",
       " 'genug',\n",
       " 'ihn',\n",
       " 'und',\n",
       " 'seine',\n",
       " 'abschlussarbeit',\n",
       " 'näher',\n",
       " 'vorzustellen',\n",
       " 'die',\n",
       " 'hochschule',\n",
       " 'karlsruhe',\n",
       " 'startet',\n",
       " 'in',\n",
       " 'das',\n",
       " 'wintersemester',\n",
       " '2025/26',\n",
       " '17.10.2025',\n",
       " ':',\n",
       " 'ein',\n",
       " 'tag',\n",
       " ',',\n",
       " 'zehn',\n",
       " 'innovationen',\n",
       " ',',\n",
       " 'gebündelte',\n",
       " 'expertise',\n",
       " 'aus',\n",
       " 'der',\n",
       " 'technologieregion',\n",
       " 'karlsruhe',\n",
       " 'zu',\n",
       " 'digitalen',\n",
       " 'zukunftsthemen',\n",
       " '.',\n",
       " 'auf',\n",
       " 'der',\n",
       " 'bühne',\n",
       " 'des',\n",
       " 'zkm',\n",
       " 'und',\n",
       " 'im',\n",
       " 'livestream',\n",
       " 'können',\n",
       " 'impulsvorträge',\n",
       " 'verfolgt',\n",
       " 'werden',\n",
       " '.',\n",
       " 'die',\n",
       " 'hka',\n",
       " 'ist',\n",
       " 'mit',\n",
       " 'einem',\n",
       " 'pitch',\n",
       " 'zu',\n",
       " 'vr',\n",
       " 'classroom',\n",
       " 'dabei',\n",
       " '.',\n",
       " 'hka',\n",
       " 'präsentierte',\n",
       " 'erfolgreiche',\n",
       " 'transferprojekte',\n",
       " 'auf',\n",
       " 'der',\n",
       " '8.',\n",
       " 'regionalkonferenz',\n",
       " 'mobilitätswende',\n",
       " 'im',\n",
       " 'kongresszentrum',\n",
       " 'karlsruhe',\n",
       " 'eu-förderung',\n",
       " 'ermöglichte',\n",
       " 'internationalem',\n",
       " 'forschungskonsortium',\n",
       " 'unter',\n",
       " 'federführung',\n",
       " 'der',\n",
       " 'hka',\n",
       " 'aufbau',\n",
       " 'von',\n",
       " 'pilotanlagen',\n",
       " 'in',\n",
       " 'vier',\n",
       " 'ländern',\n",
       " 'hka-forschungsprojekt',\n",
       " '„',\n",
       " 'smacumed',\n",
       " '“',\n",
       " 'gewinnt',\n",
       " 'in',\n",
       " 'wettbewerb',\n",
       " '10.000',\n",
       " '€',\n",
       " 'zur',\n",
       " 'markteinführung',\n",
       " 'ferienprogramm',\n",
       " 'führt',\n",
       " 'kinder',\n",
       " 'spielerisch',\n",
       " 'auch',\n",
       " 'an',\n",
       " 'technische',\n",
       " 'themen',\n",
       " 'heran',\n",
       " 'alle',\n",
       " 'news',\n",
       " 'welche',\n",
       " 'angebote',\n",
       " 'kann',\n",
       " 'ich',\n",
       " 'im',\n",
       " 'rahmen',\n",
       " 'meines',\n",
       " 'studiums',\n",
       " 'wahrnehmen',\n",
       " '?',\n",
       " 'welche',\n",
       " 'unterstützung',\n",
       " 'bekomme',\n",
       " 'ich',\n",
       " 'und',\n",
       " 'wie',\n",
       " 'kann',\n",
       " 'ich',\n",
       " 'mein',\n",
       " 'studium',\n",
       " 'am',\n",
       " 'besten',\n",
       " 'organisieren',\n",
       " '?',\n",
       " 'mit',\n",
       " 'unseren',\n",
       " 'programmen',\n",
       " 'und',\n",
       " 'aktionen',\n",
       " 'wollen',\n",
       " 'wir',\n",
       " 'ihnen',\n",
       " 'ein',\n",
       " 'erfolgreiches',\n",
       " 'studium',\n",
       " 'mit',\n",
       " 'den',\n",
       " 'besten',\n",
       " 'karrierechancen',\n",
       " 'ermöglichen',\n",
       " '.',\n",
       " 'in',\n",
       " 'welchen',\n",
       " 'bereichen',\n",
       " 'kann',\n",
       " 'ich',\n",
       " 'gemeinsam',\n",
       " 'mit',\n",
       " 'der',\n",
       " 'hka',\n",
       " 'forschen',\n",
       " '?',\n",
       " 'mit',\n",
       " 'praxisnaher',\n",
       " 'und',\n",
       " 'anwendungsreifer',\n",
       " 'forschung',\n",
       " 'und',\n",
       " 'entwicklung',\n",
       " 'möchten',\n",
       " 'wir',\n",
       " 'zusammen',\n",
       " 'mit',\n",
       " 'ihnen',\n",
       " 'zur',\n",
       " 'zukunftsfähigkeit',\n",
       " 'unserer',\n",
       " 'gesellschaft',\n",
       " 'beitragen',\n",
       " '.',\n",
       " 'mehr',\n",
       " 'erreichen',\n",
       " 'durch',\n",
       " 'weiterbildung',\n",
       " '–',\n",
       " 'mit',\n",
       " 'diesem',\n",
       " 'motto',\n",
       " 'wollen',\n",
       " 'wir',\n",
       " 'ihnen',\n",
       " 'ein',\n",
       " 'leben',\n",
       " 'lang',\n",
       " 'kompetenzen',\n",
       " 'vermitteln',\n",
       " ',',\n",
       " 'die',\n",
       " 'ihnen',\n",
       " 'in',\n",
       " 'der',\n",
       " 'berufspraxis',\n",
       " 'zugutekommen',\n",
       " ',',\n",
       " 'wissenschaftlich',\n",
       " 'fundiert',\n",
       " 'und',\n",
       " 'anwendungsorientiert',\n",
       " '.',\n",
       " 'zentrale',\n",
       " 'tel',\n",
       " '.',\n",
       " ':',\n",
       " '+49',\n",
       " '(',\n",
       " '0',\n",
       " ')',\n",
       " '721',\n",
       " '925-0',\n",
       " 'fax',\n",
       " ':',\n",
       " '+49',\n",
       " '(',\n",
       " '0',\n",
       " ')',\n",
       " '721',\n",
       " '925-2000',\n",
       " 'infospam',\n",
       " 'prevention',\n",
       " '@',\n",
       " 'h-ka.de',\n",
       " 'personal',\n",
       " 'tel',\n",
       " '.',\n",
       " ':',\n",
       " '+49',\n",
       " '(',\n",
       " '0',\n",
       " ')',\n",
       " '721',\n",
       " '925-1188',\n",
       " 'personalspam',\n",
       " 'prevention',\n",
       " '@',\n",
       " 'h-ka.de',\n",
       " 'presse',\n",
       " 'und',\n",
       " 'kommunikation',\n",
       " 'tel',\n",
       " '.',\n",
       " ':',\n",
       " '+49',\n",
       " '(',\n",
       " '0',\n",
       " ')',\n",
       " '721',\n",
       " '925-1004',\n",
       " 'pkspam',\n",
       " 'prevention',\n",
       " '@',\n",
       " 'h-ka.de',\n",
       " 'alle',\n",
       " 'kontakte',\n",
       " 'tel',\n",
       " '.',\n",
       " ':',\n",
       " '+49',\n",
       " '(',\n",
       " '0',\n",
       " ')',\n",
       " '721',\n",
       " '925-0',\n",
       " 'fax',\n",
       " ':',\n",
       " '+49',\n",
       " '(',\n",
       " '0',\n",
       " ')',\n",
       " '721',\n",
       " '925-2000',\n",
       " 'infospam',\n",
       " 'prevention',\n",
       " '@',\n",
       " 'h-ka.de',\n",
       " 'postfach',\n",
       " '2440',\n",
       " '76012',\n",
       " 'karlsruhe']"
      ]
     },
     "execution_count": 28,
     "metadata": {},
     "output_type": "execute_result"
    }
   ],
   "source": [
    "# tokenize the text\n",
    "transcript_tokens = nltk.word_tokenize(transcript)\n",
    "transcript_tokens"
   ]
  },
  {
   "cell_type": "markdown",
   "metadata": {},
   "source": [
    "# The End :)"
   ]
  }
 ],
 "metadata": {
  "kernelspec": {
   "display_name": ".venv",
   "language": "python",
   "name": "python3"
  },
  "language_info": {
   "codemirror_mode": {
    "name": "ipython",
    "version": 3
   },
   "file_extension": ".py",
   "mimetype": "text/x-python",
   "name": "python",
   "nbconvert_exporter": "python",
   "pygments_lexer": "ipython3",
   "version": "3.12.10"
  }
 },
 "nbformat": 4,
 "nbformat_minor": 4
}
